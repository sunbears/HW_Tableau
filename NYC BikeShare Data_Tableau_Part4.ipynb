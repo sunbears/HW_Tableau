{
 "cells": [
  {
   "cell_type": "markdown",
   "metadata": {},
   "source": [
    "## Bike Utilization: 2017 "
   ]
  },
  {
   "cell_type": "code",
   "execution_count": 17,
   "metadata": {
    "collapsed": true
   },
   "outputs": [],
   "source": [
    "#Create list of 2017 month filenames\n",
    "months_2017 = []\n",
    "\n",
    "for x in range(12):\n",
    "    if x+1<10:\n",
    "        month = '2017' + str(0)+str(x+1)\n",
    "    if x+1>=10:\n",
    "        month = '2017' + str(x+1)\n",
    "    months_2017.append(month)"
   ]
  },
  {
   "cell_type": "code",
   "execution_count": 18,
   "metadata": {},
   "outputs": [
    {
     "name": "stdout",
     "output_type": "stream",
     "text": [
      "201701\n",
      "201702\n",
      "201703\n",
      "201704\n",
      "201705\n",
      "201706\n",
      "201707\n",
      "201708\n",
      "201709\n",
      "201710\n",
      "201711\n",
      "201712\n"
     ]
    }
   ],
   "source": [
    "df_2017 = pd.DataFrame()\n",
    "\n",
    "for x in months_2017:\n",
    "    \n",
    "    filename = x+'-citibike-tripdata.csv'\n",
    "    \n",
    "    csv_path = os.path.join('data', filename)\n",
    "    csv = pd.read_csv(csv_path)\n",
    "    csv = pd.DataFrame(csv)\n",
    "    \n",
    "    #Convert columns names to lowercase and remove spaces to ensure uniform headers\n",
    "    csv.columns = csv.columns.str.lower()\n",
    "    csv.columns = csv.columns.str.replace(' ','')\n",
    "\n",
    "    csv = csv[['startstationid','startstationname','startstationlatitude','startstationlongitude',\n",
    "            'endstationid', 'endstationname','endstationlatitude','endstationlongitude',\n",
    "            'bikeid']]\n",
    "    \n",
    "    df_2017 = df_2017.append(csv)\n",
    "    #For tracking progress, print x, the filename month\n",
    "    print(f'{x}')"
   ]
  },
  {
   "cell_type": "code",
   "execution_count": 21,
   "metadata": {},
   "outputs": [
    {
     "data": {
      "text/html": [
       "<div>\n",
       "<style>\n",
       "    .dataframe thead tr:only-child th {\n",
       "        text-align: right;\n",
       "    }\n",
       "\n",
       "    .dataframe thead th {\n",
       "        text-align: left;\n",
       "    }\n",
       "\n",
       "    .dataframe tbody tr th {\n",
       "        vertical-align: top;\n",
       "    }\n",
       "</style>\n",
       "<table border=\"1\" class=\"dataframe\">\n",
       "  <thead>\n",
       "    <tr style=\"text-align: right;\">\n",
       "      <th></th>\n",
       "      <th>startstationid</th>\n",
       "      <th>startstationname</th>\n",
       "      <th>startstationlatitude</th>\n",
       "      <th>startstationlongitude</th>\n",
       "      <th>endstationid</th>\n",
       "      <th>endstationname</th>\n",
       "      <th>endstationlatitude</th>\n",
       "      <th>endstationlongitude</th>\n",
       "      <th>bikeid</th>\n",
       "    </tr>\n",
       "  </thead>\n",
       "  <tbody>\n",
       "    <tr>\n",
       "      <th>0</th>\n",
       "      <td>3226</td>\n",
       "      <td>W 82 St &amp; Central Park West</td>\n",
       "      <td>40.782750</td>\n",
       "      <td>-73.971370</td>\n",
       "      <td>3165</td>\n",
       "      <td>Central Park West &amp; W 72 St</td>\n",
       "      <td>40.775794</td>\n",
       "      <td>-73.976206</td>\n",
       "      <td>25542</td>\n",
       "    </tr>\n",
       "    <tr>\n",
       "      <th>1</th>\n",
       "      <td>3263</td>\n",
       "      <td>Cooper Square &amp; E 7 St</td>\n",
       "      <td>40.729236</td>\n",
       "      <td>-73.990868</td>\n",
       "      <td>498</td>\n",
       "      <td>Broadway &amp; W 32 St</td>\n",
       "      <td>40.748549</td>\n",
       "      <td>-73.988084</td>\n",
       "      <td>21136</td>\n",
       "    </tr>\n",
       "    <tr>\n",
       "      <th>2</th>\n",
       "      <td>3143</td>\n",
       "      <td>5 Ave &amp; E 78 St</td>\n",
       "      <td>40.776829</td>\n",
       "      <td>-73.963888</td>\n",
       "      <td>3152</td>\n",
       "      <td>3 Ave &amp; E 71 St</td>\n",
       "      <td>40.768737</td>\n",
       "      <td>-73.961199</td>\n",
       "      <td>18147</td>\n",
       "    </tr>\n",
       "    <tr>\n",
       "      <th>3</th>\n",
       "      <td>3143</td>\n",
       "      <td>5 Ave &amp; E 78 St</td>\n",
       "      <td>40.776829</td>\n",
       "      <td>-73.963888</td>\n",
       "      <td>3152</td>\n",
       "      <td>3 Ave &amp; E 71 St</td>\n",
       "      <td>40.768737</td>\n",
       "      <td>-73.961199</td>\n",
       "      <td>21211</td>\n",
       "    </tr>\n",
       "    <tr>\n",
       "      <th>4</th>\n",
       "      <td>3143</td>\n",
       "      <td>5 Ave &amp; E 78 St</td>\n",
       "      <td>40.776829</td>\n",
       "      <td>-73.963888</td>\n",
       "      <td>3152</td>\n",
       "      <td>3 Ave &amp; E 71 St</td>\n",
       "      <td>40.768737</td>\n",
       "      <td>-73.961199</td>\n",
       "      <td>26819</td>\n",
       "    </tr>\n",
       "  </tbody>\n",
       "</table>\n",
       "</div>"
      ],
      "text/plain": [
       "   startstationid             startstationname  startstationlatitude  \\\n",
       "0            3226  W 82 St & Central Park West             40.782750   \n",
       "1            3263       Cooper Square & E 7 St             40.729236   \n",
       "2            3143              5 Ave & E 78 St             40.776829   \n",
       "3            3143              5 Ave & E 78 St             40.776829   \n",
       "4            3143              5 Ave & E 78 St             40.776829   \n",
       "\n",
       "   startstationlongitude  endstationid               endstationname  \\\n",
       "0             -73.971370          3165  Central Park West & W 72 St   \n",
       "1             -73.990868           498           Broadway & W 32 St   \n",
       "2             -73.963888          3152              3 Ave & E 71 St   \n",
       "3             -73.963888          3152              3 Ave & E 71 St   \n",
       "4             -73.963888          3152              3 Ave & E 71 St   \n",
       "\n",
       "   endstationlatitude  endstationlongitude  bikeid  \n",
       "0           40.775794           -73.976206   25542  \n",
       "1           40.748549           -73.988084   21136  \n",
       "2           40.768737           -73.961199   18147  \n",
       "3           40.768737           -73.961199   21211  \n",
       "4           40.768737           -73.961199   26819  "
      ]
     },
     "execution_count": 21,
     "metadata": {},
     "output_type": "execute_result"
    }
   ],
   "source": [
    "df_2017.head()"
   ]
  },
  {
   "cell_type": "code",
   "execution_count": 19,
   "metadata": {},
   "outputs": [
    {
     "data": {
      "text/plain": [
       "16364657"
      ]
     },
     "execution_count": 19,
     "metadata": {},
     "output_type": "execute_result"
    }
   ],
   "source": [
    "#Cross check that this is the toal number of trips in 2017\n",
    "len(df_2017)"
   ]
  },
  {
   "cell_type": "code",
   "execution_count": 48,
   "metadata": {},
   "outputs": [
    {
     "data": {
      "text/html": [
       "<div>\n",
       "<style>\n",
       "    .dataframe thead tr:only-child th {\n",
       "        text-align: right;\n",
       "    }\n",
       "\n",
       "    .dataframe thead th {\n",
       "        text-align: left;\n",
       "    }\n",
       "\n",
       "    .dataframe tbody tr th {\n",
       "        vertical-align: top;\n",
       "    }\n",
       "</style>\n",
       "<table border=\"1\" class=\"dataframe\">\n",
       "  <thead>\n",
       "    <tr style=\"text-align: right;\">\n",
       "      <th></th>\n",
       "      <th>bikeid</th>\n",
       "      <th>trip_count</th>\n",
       "    </tr>\n",
       "  </thead>\n",
       "  <tbody>\n",
       "    <tr>\n",
       "      <th>7067</th>\n",
       "      <td>25738</td>\n",
       "      <td>2514</td>\n",
       "    </tr>\n",
       "    <tr>\n",
       "      <th>6614</th>\n",
       "      <td>25275</td>\n",
       "      <td>2409</td>\n",
       "    </tr>\n",
       "    <tr>\n",
       "      <th>8374</th>\n",
       "      <td>27161</td>\n",
       "      <td>2376</td>\n",
       "    </tr>\n",
       "    <tr>\n",
       "      <th>7799</th>\n",
       "      <td>26565</td>\n",
       "      <td>2370</td>\n",
       "    </tr>\n",
       "    <tr>\n",
       "      <th>8324</th>\n",
       "      <td>27111</td>\n",
       "      <td>2349</td>\n",
       "    </tr>\n",
       "  </tbody>\n",
       "</table>\n",
       "</div>"
      ],
      "text/plain": [
       "      bikeid  trip_count\n",
       "7067   25738        2514\n",
       "6614   25275        2409\n",
       "8374   27161        2376\n",
       "7799   26565        2370\n",
       "8324   27111        2349"
      ]
     },
     "execution_count": 48,
     "metadata": {},
     "output_type": "execute_result"
    }
   ],
   "source": [
    "bikeid_2017 = df_2017.groupby(['bikeid']).size().rename('trip_count').reset_index()\n",
    "bikeid_2017 = bikeid_2017.sort_values(by=['trip_count'], ascending=False)\n",
    "bikeid_2017.head()"
   ]
  },
  {
   "cell_type": "code",
   "execution_count": 49,
   "metadata": {
    "collapsed": true
   },
   "outputs": [],
   "source": [
    "bikeid_2017.to_csv('bikeid_2017.csv')"
   ]
  },
  {
   "cell_type": "code",
   "execution_count": 50,
   "metadata": {},
   "outputs": [
    {
     "data": {
      "text/plain": [
       "1237.0"
      ]
     },
     "execution_count": 50,
     "metadata": {},
     "output_type": "execute_result"
    }
   ],
   "source": [
    "median_trip_count = bikeid_2017['trip_count'].median()\n",
    "median_trip_count"
   ]
  },
  {
   "cell_type": "code",
   "execution_count": 51,
   "metadata": {},
   "outputs": [
    {
     "data": {
      "text/plain": [
       "1152.1160940580119"
      ]
     },
     "execution_count": 51,
     "metadata": {},
     "output_type": "execute_result"
    }
   ],
   "source": [
    "mean_trip_count = bikeid_2017['trip_count'].mean()\n",
    "mean_trip_count"
   ]
  },
  {
   "cell_type": "markdown",
   "metadata": {},
   "source": [
    "## Master List of Stations"
   ]
  },
  {
   "cell_type": "code",
   "execution_count": 372,
   "metadata": {},
   "outputs": [
    {
     "name": "stdout",
     "output_type": "stream",
     "text": [
      "Start Stations: 811; End Stations: 847; Total in Index:848\n"
     ]
    }
   ],
   "source": [
    "#Create Master List of all station id's and location\n",
    "\n",
    "#Start stations\n",
    "start_stat_2017 = df_2017[['startstationid','startstationname','startstationlatitude','startstationlongitude']]\n",
    "start_stat_2017 = start_stat_2017.rename(columns = {'startstationid':'stat_id','startstationlatitude':'stat_lat',\n",
    "                                                   'startstationlongitude':'stat_lon','startstationname':'stat_name'})\n",
    "start_stat_2017_unique =  start_stat_2017.drop_duplicates('stat_id')\n",
    "total_start_stat_2017 = len(start_stat_2017_unique)\n",
    "\n",
    "#End stations\n",
    "end_stat_2017 = df_2017[['endstationid','endstationname','endstationlatitude','endstationlongitude']]\n",
    "end_stat_2017 = end_stat_2017.rename(columns = {'endstationid':'stat_id','endstationlatitude':'stat_lat',\n",
    "                                                   'endstationlongitude':'stat_lon','endstationname':'stat_name'})\n",
    "end_stat_2017_unique =  end_stat_2017.drop_duplicates('stat_id')\n",
    "total_end_stat_2017 = len(end_stat_2017_unique)\n",
    "\n",
    "#Merge Start and End Stations\n",
    "station_index = pd.merge(start_stat_2017_unique, end_stat_2017_unique, how='outer', on='stat_id')\n",
    "total_station_index = len(station_index)\n",
    "\n",
    "station_index = station_index[['stat_id','stat_name_x','stat_lat_x','stat_lon_x']]\n",
    "station_index = station_index.rename(columns = {'stat_name_x':'stat_name','stat_lat_x':'stat_lat','stat_lon_x':'stat_lon'})\n",
    "\n",
    "station_index.to_csv(\"station_master_list.csv\")\n",
    "\n",
    "#Double check Merge went as expected\n",
    "print(f\"Start Stations: {total_start_stat_2017}; End Stations: {total_end_stat_2017}; Total in Index:{total_station_index}\")"
   ]
  },
  {
   "cell_type": "markdown",
   "metadata": {},
   "source": [
    "## Most Popular Stations in Feb 2018"
   ]
  },
  {
   "cell_type": "code",
   "execution_count": 373,
   "metadata": {
    "collapsed": true
   },
   "outputs": [],
   "source": [
    "import os\n",
    "import pandas as pd\n",
    "\n",
    "filename = '201802_citibikenyc_tripdata.csv'\n",
    "\n",
    "csv_path = os.path.join('data', filename)\n",
    "csv = pd.read_csv(csv_path)\n",
    "csv = pd.DataFrame(csv)\n",
    "\n",
    "#Convert columns names to lowercase and remove spaces to ensure uniform headers\n",
    "csv.columns = csv.columns.str.lower()\n",
    "csv.columns = csv.columns.str.replace(' ','')\n",
    "\n",
    "csv = csv[['startstationid','endstationid']]\n",
    "\n",
    "df_201802 = csv"
   ]
  },
  {
   "cell_type": "code",
   "execution_count": 374,
   "metadata": {},
   "outputs": [
    {
     "data": {
      "text/html": [
       "<div>\n",
       "<style>\n",
       "    .dataframe thead tr:only-child th {\n",
       "        text-align: right;\n",
       "    }\n",
       "\n",
       "    .dataframe thead th {\n",
       "        text-align: left;\n",
       "    }\n",
       "\n",
       "    .dataframe tbody tr th {\n",
       "        vertical-align: top;\n",
       "    }\n",
       "</style>\n",
       "<table border=\"1\" class=\"dataframe\">\n",
       "  <thead>\n",
       "    <tr style=\"text-align: right;\">\n",
       "      <th></th>\n",
       "      <th>stat_id</th>\n",
       "      <th>2018_start_count</th>\n",
       "      <th>2018_end_count</th>\n",
       "    </tr>\n",
       "  </thead>\n",
       "  <tbody>\n",
       "    <tr>\n",
       "      <th>0</th>\n",
       "      <td>519</td>\n",
       "      <td>9059</td>\n",
       "      <td>9060</td>\n",
       "    </tr>\n",
       "    <tr>\n",
       "      <th>1</th>\n",
       "      <td>402</td>\n",
       "      <td>5729</td>\n",
       "      <td>6059</td>\n",
       "    </tr>\n",
       "    <tr>\n",
       "      <th>2</th>\n",
       "      <td>435</td>\n",
       "      <td>5721</td>\n",
       "      <td>5867</td>\n",
       "    </tr>\n",
       "    <tr>\n",
       "      <th>3</th>\n",
       "      <td>497</td>\n",
       "      <td>5362</td>\n",
       "      <td>5817</td>\n",
       "    </tr>\n",
       "    <tr>\n",
       "      <th>4</th>\n",
       "      <td>3255</td>\n",
       "      <td>5268</td>\n",
       "      <td>5332</td>\n",
       "    </tr>\n",
       "  </tbody>\n",
       "</table>\n",
       "</div>"
      ],
      "text/plain": [
       "   stat_id  2018_start_count  2018_end_count\n",
       "0      519              9059            9060\n",
       "1      402              5729            6059\n",
       "2      435              5721            5867\n",
       "3      497              5362            5817\n",
       "4     3255              5268            5332"
      ]
     },
     "execution_count": 374,
     "metadata": {},
     "output_type": "execute_result"
    }
   ],
   "source": [
    "#count start station id\n",
    "start_201802 = df_201802['startstationid'].value_counts().to_frame().reset_index()\n",
    "start_201802.columns = ['stat_id','2018_start_count']\n",
    "\n",
    "#count end station id\n",
    "end_201802 = df_201802['endstationid'].value_counts().to_frame().reset_index()\n",
    "end_201802.columns = ['stat_id','2018_end_count']\n",
    "\n",
    "#merge the start and end counts\n",
    "stat_count_201802 = pd.merge(start_201802,end_201802, on='stat_id')\n",
    "stat_count_201802.head()"
   ]
  },
  {
   "cell_type": "code",
   "execution_count": 375,
   "metadata": {},
   "outputs": [
    {
     "data": {
      "text/html": [
       "<div>\n",
       "<style>\n",
       "    .dataframe thead tr:only-child th {\n",
       "        text-align: right;\n",
       "    }\n",
       "\n",
       "    .dataframe thead th {\n",
       "        text-align: left;\n",
       "    }\n",
       "\n",
       "    .dataframe tbody tr th {\n",
       "        vertical-align: top;\n",
       "    }\n",
       "</style>\n",
       "<table border=\"1\" class=\"dataframe\">\n",
       "  <thead>\n",
       "    <tr style=\"text-align: right;\">\n",
       "      <th></th>\n",
       "      <th>stat_id</th>\n",
       "      <th>2018_start_count</th>\n",
       "      <th>2018_end_count</th>\n",
       "      <th>stat_name</th>\n",
       "      <th>stat_lat</th>\n",
       "      <th>stat_lon</th>\n",
       "    </tr>\n",
       "  </thead>\n",
       "  <tbody>\n",
       "    <tr>\n",
       "      <th>0</th>\n",
       "      <td>519</td>\n",
       "      <td>9059</td>\n",
       "      <td>9060</td>\n",
       "      <td>Pershing Square North</td>\n",
       "      <td>40.751873</td>\n",
       "      <td>-73.977706</td>\n",
       "    </tr>\n",
       "    <tr>\n",
       "      <th>1</th>\n",
       "      <td>402</td>\n",
       "      <td>5729</td>\n",
       "      <td>6059</td>\n",
       "      <td>Broadway &amp; E 22 St</td>\n",
       "      <td>40.740343</td>\n",
       "      <td>-73.989551</td>\n",
       "    </tr>\n",
       "    <tr>\n",
       "      <th>2</th>\n",
       "      <td>435</td>\n",
       "      <td>5721</td>\n",
       "      <td>5867</td>\n",
       "      <td>W 21 St &amp; 6 Ave</td>\n",
       "      <td>40.741740</td>\n",
       "      <td>-73.994156</td>\n",
       "    </tr>\n",
       "    <tr>\n",
       "      <th>3</th>\n",
       "      <td>497</td>\n",
       "      <td>5362</td>\n",
       "      <td>5817</td>\n",
       "      <td>E 17 St &amp; Broadway</td>\n",
       "      <td>40.737050</td>\n",
       "      <td>-73.990093</td>\n",
       "    </tr>\n",
       "    <tr>\n",
       "      <th>4</th>\n",
       "      <td>3255</td>\n",
       "      <td>5268</td>\n",
       "      <td>5332</td>\n",
       "      <td>8 Ave &amp; W 31 St</td>\n",
       "      <td>40.750585</td>\n",
       "      <td>-73.994685</td>\n",
       "    </tr>\n",
       "  </tbody>\n",
       "</table>\n",
       "</div>"
      ],
      "text/plain": [
       "   stat_id  2018_start_count  2018_end_count              stat_name  \\\n",
       "0      519              9059            9060  Pershing Square North   \n",
       "1      402              5729            6059     Broadway & E 22 St   \n",
       "2      435              5721            5867        W 21 St & 6 Ave   \n",
       "3      497              5362            5817     E 17 St & Broadway   \n",
       "4     3255              5268            5332        8 Ave & W 31 St   \n",
       "\n",
       "    stat_lat   stat_lon  \n",
       "0  40.751873 -73.977706  \n",
       "1  40.740343 -73.989551  \n",
       "2  40.741740 -73.994156  \n",
       "3  40.737050 -73.990093  \n",
       "4  40.750585 -73.994685  "
      ]
     },
     "execution_count": 375,
     "metadata": {},
     "output_type": "execute_result"
    }
   ],
   "source": [
    "#Merge with master station list\n",
    "stat_count_201802 = pd.merge(stat_count_201802 ,station_index, on='stat_id')\n",
    "stat_count_201802.head()"
   ]
  },
  {
   "cell_type": "code",
   "execution_count": 376,
   "metadata": {
    "collapsed": true
   },
   "outputs": [],
   "source": [
    "stat_count_201802.to_csv('stat_count_201802.csv')"
   ]
  }
 ],
 "metadata": {
  "kernelspec": {
   "display_name": "Python [default]",
   "language": "python",
   "name": "python3"
  },
  "language_info": {
   "codemirror_mode": {
    "name": "ipython",
    "version": 3
   },
   "file_extension": ".py",
   "mimetype": "text/x-python",
   "name": "python",
   "nbconvert_exporter": "python",
   "pygments_lexer": "ipython3",
   "version": "3.6.3"
  }
 },
 "nbformat": 4,
 "nbformat_minor": 2
}
