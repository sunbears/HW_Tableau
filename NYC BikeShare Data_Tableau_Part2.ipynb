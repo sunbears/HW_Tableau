{
 "cells": [
  {
   "cell_type": "markdown",
   "metadata": {},
   "source": [
    "## Peak Hours in Summer and Winter"
   ]
  },
  {
   "cell_type": "code",
   "execution_count": 38,
   "metadata": {
    "collapsed": true
   },
   "outputs": [],
   "source": [
    "summer_months = ['2014-06','2014-07','2014-08',\n",
    "                 '201506','201507','201508',\n",
    "                 '201606','201607','201608',\n",
    "                 '201706','201707','201708']"
   ]
  },
  {
   "cell_type": "code",
   "execution_count": 39,
   "metadata": {
    "collapsed": true
   },
   "outputs": [],
   "source": [
    "starttime_list = pd.DataFrame()\n",
    "\n",
    "for x in summer_months:\n",
    "    \n",
    "    #if statements to account for the inconsistent naming of the original csv files\n",
    "    if len(x) == 7:\n",
    "        filename = x+' - Citi Bike trip data.csv'\n",
    "    elif '2018' in x:\n",
    "        filename = x+'_citibikenyc_tripdata.csv'\n",
    "    else:   \n",
    "        filename = x+'-citibike-tripdata.csv'\n",
    "    \n",
    "    csv_path = os.path.join('data', filename)\n",
    "    csv = pd.read_csv(csv_path)\n",
    "    \n",
    "    #Convert columns names to lowercase and remove spaces to ensure uniform headers\n",
    "    csv.columns = csv.columns.str.lower()\n",
    "    csv.columns = csv.columns.str.replace(' ','')\n",
    "    \n",
    "    #Create dataframe of the starttime and append to starttimelist dataframe\n",
    "    starttime_df = pd.DataFrame(csv['starttime'])\n",
    "    starttime_list = starttime_list.append(starttime_df)"
   ]
  },
  {
   "cell_type": "code",
   "execution_count": 41,
   "metadata": {
    "collapsed": true
   },
   "outputs": [],
   "source": [
    "starttime_list.to_csv('starttime_summer2.csv')\n",
    "starttime_summer2 = pd.read_csv('starttime_summer2.csv')"
   ]
  },
  {
   "cell_type": "code",
   "execution_count": 7,
   "metadata": {
    "collapsed": true
   },
   "outputs": [],
   "source": [
    "winter_months = ['2013-12','2014-01','2014-02',\n",
    "                 '201412','201501','201502',\n",
    "                 '201512','201601','201602',\n",
    "                 '201612','201701','201702',\n",
    "                 '201712','201801','201802']"
   ]
  },
  {
   "cell_type": "code",
   "execution_count": 8,
   "metadata": {},
   "outputs": [
    {
     "name": "stdout",
     "output_type": "stream",
     "text": [
      "2013-12\n",
      "2014-01\n",
      "2014-02\n",
      "201412\n",
      "201501\n",
      "201502\n",
      "201512\n",
      "201601\n",
      "201602\n",
      "201612\n",
      "201701\n",
      "201702\n",
      "201712\n",
      "201801\n",
      "201802\n"
     ]
    }
   ],
   "source": [
    "winter_starttime_list = pd.DataFrame()\n",
    "\n",
    "for x in winter_months:\n",
    "    \n",
    "    #if statements to account for the inconsistent naming of the original csv files\n",
    "    if len(x) == 7:\n",
    "        filename = x+' - Citi Bike trip data.csv'\n",
    "    elif '2018' in x:\n",
    "        filename = x+'_citibikenyc_tripdata.csv'\n",
    "    else:   \n",
    "        filename = x+'-citibike-tripdata.csv'\n",
    "    \n",
    "    csv_path = os.path.join('data', filename)\n",
    "    csv = pd.read_csv(csv_path)\n",
    "    \n",
    "    #Convert columns names to lowercase and remove spaces to ensure uniform headers\n",
    "    csv.columns = csv.columns.str.lower()\n",
    "    csv.columns = csv.columns.str.replace(' ','')\n",
    "    \n",
    "    #Create dataframe of the starttime and append to starttimelist dataframe\n",
    "    starttime_df = pd.DataFrame(csv['starttime'])\n",
    "    winter_starttime_list = winter_starttime_list.append(starttime_df)\n",
    "    \n",
    "    print(f'{x}')"
   ]
  },
  {
   "cell_type": "code",
   "execution_count": 12,
   "metadata": {
    "collapsed": true
   },
   "outputs": [],
   "source": [
    "winter_starttime_list.to_csv('starttime_winter2.csv')\n",
    "starttime_winter = pd.read_csv('starttime_winter2.csv')"
   ]
  },
  {
   "cell_type": "markdown",
   "metadata": {},
   "source": [
    "## Age and Trip Duration"
   ]
  },
  {
   "cell_type": "code",
   "execution_count": 78,
   "metadata": {
    "collapsed": true
   },
   "outputs": [],
   "source": [
    "#Create list of 2017 month filenames\n",
    "months_2017 = []\n",
    "\n",
    "for x in range(12):\n",
    "    if x+1<10:\n",
    "        month = '2017' + str(0)+str(x+1)\n",
    "    if x+1>=10:\n",
    "        month = '2017' + str(x+1)\n",
    "    months_2017.append(month)"
   ]
  },
  {
   "cell_type": "code",
   "execution_count": 80,
   "metadata": {
    "collapsed": true
   },
   "outputs": [],
   "source": [
    "#Caculate current year to use in calculating age in for loop\n",
    "import datetime\n",
    "now = datetime.datetime.now()\n",
    "current_year = now.year"
   ]
  },
  {
   "cell_type": "code",
   "execution_count": 98,
   "metadata": {
    "collapsed": true
   },
   "outputs": [],
   "source": [
    "#Empty dataframe for appending results from for loop\n",
    "age_df = pd.DataFrame()"
   ]
  },
  {
   "cell_type": "code",
   "execution_count": 99,
   "metadata": {},
   "outputs": [
    {
     "name": "stdout",
     "output_type": "stream",
     "text": [
      "201701\n",
      "201702\n",
      "201703\n",
      "201704\n",
      "201705\n",
      "201706\n",
      "201707\n",
      "201708\n",
      "201709\n",
      "201710\n",
      "201711\n",
      "201712\n"
     ]
    }
   ],
   "source": [
    "for x in months_2017:\n",
    "    \n",
    "    filename = x+'-citibike-tripdata.csv'\n",
    "    \n",
    "    csv_path = os.path.join('data', filename)\n",
    "    csv = pd.read_csv(csv_path)\n",
    "    csv = pd.DataFrame(csv)\n",
    "    \n",
    "    #Convert columns names to lowercase and remove spaces to ensure uniform headers\n",
    "    csv.columns = csv.columns.str.lower()\n",
    "    csv.columns = csv.columns.str.replace(' ','')\n",
    "    \n",
    "    csv['birthyear'] = csv['birthyear'].fillna(0).astype(int)\n",
    "    csv['age'] = current_year-csv['birthyear']\n",
    "    csv['age'] = csv['age'].replace(2018, np.nan)\n",
    "    \n",
    "    age_tripduration = csv[['age','tripduration']]\n",
    "    age_tripduration\n",
    "    \n",
    "    age_df = age_df.append(age_tripduration)\n",
    "    \n",
    "    #For tracking progress, print x, the filename month\n",
    "    print(f'{x}')"
   ]
  },
  {
   "cell_type": "code",
   "execution_count": 116,
   "metadata": {
    "collapsed": true
   },
   "outputs": [],
   "source": [
    "age_df2 = age_df.drop(age_df[(age_df.age < 18) | (age_df.age>102)].index)"
   ]
  },
  {
   "cell_type": "code",
   "execution_count": 123,
   "metadata": {},
   "outputs": [
    {
     "data": {
      "text/html": [
       "<div>\n",
       "<style>\n",
       "    .dataframe thead tr:only-child th {\n",
       "        text-align: right;\n",
       "    }\n",
       "\n",
       "    .dataframe thead th {\n",
       "        text-align: left;\n",
       "    }\n",
       "\n",
       "    .dataframe tbody tr th {\n",
       "        vertical-align: top;\n",
       "    }\n",
       "</style>\n",
       "<table border=\"1\" class=\"dataframe\">\n",
       "  <thead>\n",
       "    <tr style=\"text-align: right;\">\n",
       "      <th></th>\n",
       "      <th>age</th>\n",
       "      <th>tripduration</th>\n",
       "    </tr>\n",
       "  </thead>\n",
       "  <tbody>\n",
       "    <tr>\n",
       "      <th>0</th>\n",
       "      <td>18</td>\n",
       "      <td>523</td>\n",
       "    </tr>\n",
       "    <tr>\n",
       "      <th>1</th>\n",
       "      <td>19</td>\n",
       "      <td>527</td>\n",
       "    </tr>\n",
       "    <tr>\n",
       "      <th>2</th>\n",
       "      <td>20</td>\n",
       "      <td>535</td>\n",
       "    </tr>\n",
       "    <tr>\n",
       "      <th>3</th>\n",
       "      <td>21</td>\n",
       "      <td>527</td>\n",
       "    </tr>\n",
       "    <tr>\n",
       "      <th>4</th>\n",
       "      <td>22</td>\n",
       "      <td>537</td>\n",
       "    </tr>\n",
       "  </tbody>\n",
       "</table>\n",
       "</div>"
      ],
      "text/plain": [
       "   age  tripduration\n",
       "0   18           523\n",
       "1   19           527\n",
       "2   20           535\n",
       "3   21           527\n",
       "4   22           537"
      ]
     },
     "execution_count": 123,
     "metadata": {},
     "output_type": "execute_result"
    }
   ],
   "source": [
    "#Remove rows data where age is <18 or >115 likely due to dummy birth years entered as data\n",
    "age_df3 = age_df2.groupby(by=['age'])['tripduration'].median()\n",
    "age_df3 = pd.DataFrame(age_df3)\n",
    "age_df3 = age_df3.reset_index()\n",
    "age_df3[['age', 'tripduration']] = age_df3[['age', 'tripduration']].astype('int')\n",
    "age_df3.head()"
   ]
  },
  {
   "cell_type": "code",
   "execution_count": 124,
   "metadata": {
    "collapsed": true
   },
   "outputs": [],
   "source": [
    "age_df3.to_csv('age_tripduration.csv')"
   ]
  }
 ],
 "metadata": {
  "kernelspec": {
   "display_name": "Python [default]",
   "language": "python",
   "name": "python3"
  },
  "language_info": {
   "codemirror_mode": {
    "name": "ipython",
    "version": 3
   },
   "file_extension": ".py",
   "mimetype": "text/x-python",
   "name": "python",
   "nbconvert_exporter": "python",
   "pygments_lexer": "ipython3",
   "version": "3.6.3"
  }
 },
 "nbformat": 4,
 "nbformat_minor": 2
}
